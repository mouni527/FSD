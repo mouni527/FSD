{
  "nbformat": 4,
  "nbformat_minor": 0,
  "metadata": {
    "colab": {
      "provenance": [],
      "authorship_tag": "ABX9TyPF+1vlwQg4D6N9Xrk4zx5z",
      "include_colab_link": true
    },
    "kernelspec": {
      "name": "python3",
      "display_name": "Python 3"
    },
    "language_info": {
      "name": "python"
    }
  },
  "cells": [
    {
      "cell_type": "markdown",
      "metadata": {
        "id": "view-in-github",
        "colab_type": "text"
      },
      "source": [
        "<a href=\"https://colab.research.google.com/github/mouni527/FSD/blob/master/program.ipynb\" target=\"_parent\"><img src=\"https://colab.research.google.com/assets/colab-badge.svg\" alt=\"Open In Colab\"/></a>"
      ]
    },
    {
      "cell_type": "code",
      "execution_count": null,
      "metadata": {
        "id": "kzTOFzxJZep1"
      },
      "outputs": [],
      "source": [
        "n1=[1234,7896,8976,4536]\n",
        "s=\"\"\n",
        "for i in n1:\n",
        "    s+=str(i)\n",
        "res=[]\n",
        "for i in s:\n",
        "    res.append(int(i))\n",
        "print(res)"
      ]
    },
    {
      "cell_type": "code",
      "source": [
        "n=int(input())\n",
        "if n%2==0:\n",
        "    if n>6 and n<=20:\n",
        "     print(\"weired\")\n",
        "    else:\n",
        "      print(\"not weired\")\n",
        "else:\n",
        "    print(\"weired\")"
      ],
      "metadata": {
        "colab": {
          "base_uri": "https://localhost:8080/"
        },
        "id": "AkOJp-oXzieh",
        "outputId": "55f48a0f-e834-40a9-9b81-a2183ab77e7e"
      },
      "execution_count": null,
      "outputs": [
        {
          "output_type": "stream",
          "name": "stdout",
          "text": [
            "4\n",
            "not weired\n"
          ]
        }
      ]
    },
    {
      "cell_type": "markdown",
      "source": [
        "LonelyNumber"
      ],
      "metadata": {
        "id": "1FpvBIkOByhh"
      }
    },
    {
      "cell_type": "code",
      "source": [
        "def lonelynumber(n):\n",
        "  m=[]\n",
        "  for i in n:\n",
        "    c=n.count(i)\n",
        "    if c<2:\n",
        "      m.append(i)\n",
        "  print(m)\n",
        "lonelynumber([1,2,3,4,1,2,3,8])"
      ],
      "metadata": {
        "colab": {
          "base_uri": "https://localhost:8080/"
        },
        "id": "j39d4wJZAWO0",
        "outputId": "b580740f-9337-4929-9b86-292c013e0df8"
      },
      "execution_count": null,
      "outputs": [
        {
          "output_type": "stream",
          "name": "stdout",
          "text": [
            "[4, 8]\n"
          ]
        }
      ]
    },
    {
      "cell_type": "code",
      "source": [],
      "metadata": {
        "id": "3fXej2swDQx4"
      },
      "execution_count": null,
      "outputs": []
    },
    {
      "cell_type": "markdown",
      "source": [
        "if i want to print a number  more than two times"
      ],
      "metadata": {
        "id": "xUVlnTHfCnri"
      }
    },
    {
      "cell_type": "code",
      "source": [
        "def lonelynumber(n):\n",
        "  m=[]\n",
        "  for i in n:\n",
        "    c=n.count(i)\n",
        "    if c>=2:\n",
        "      m.append(i)\n",
        "  print(m)\n",
        "lonelynumber([1,2,3,4,1,2,3,8])"
      ],
      "metadata": {
        "colab": {
          "base_uri": "https://localhost:8080/"
        },
        "id": "cBuwLUaBB8fq",
        "outputId": "be77d5ce-3ace-4778-8322-3de7d9bb51ec"
      },
      "execution_count": null,
      "outputs": [
        {
          "output_type": "stream",
          "name": "stdout",
          "text": [
            "[1, 2, 3, 1, 2, 3]\n"
          ]
        }
      ]
    },
    {
      "cell_type": "markdown",
      "source": [
        "Two Swap"
      ],
      "metadata": {
        "id": "T8Z9FnDYDBev"
      }
    },
    {
      "cell_type": "code",
      "source": [
        "n=856723\n",
        "m=[]\n",
        "s=str(n)\n",
        "for i in s:\n",
        "  m.append(int(i))\n",
        "  m1=[]\n",
        "  m2=[]\n",
        "for i in m:\n",
        "  if index(i)%2==0:\n",
        "    m1.append(i)\n",
        "  else:\n",
        "    m2.append(i)\n",
        "    g=[]\n",
        "for i in range(0,len(m1)):\n",
        "  g.append(m1[i])\n",
        "  g.append(m2[i])\n",
        "h=\" \"\n",
        "for i in g:\n",
        "  h+=str(i)\n",
        "print(h)\n",
        "\n",
        "\n"
      ],
      "metadata": {
        "colab": {
          "base_uri": "https://localhost:8080/",
          "height": 245
        },
        "id": "9UulLCx0C5oN",
        "outputId": "3d091232-0c45-42b2-92e7-709d528e642c"
      },
      "execution_count": null,
      "outputs": [
        {
          "output_type": "error",
          "ename": "NameError",
          "evalue": "ignored",
          "traceback": [
            "\u001b[0;31m---------------------------------------------------------------------------\u001b[0m",
            "\u001b[0;31mNameError\u001b[0m                                 Traceback (most recent call last)",
            "\u001b[0;32m<ipython-input-8-35b64737fa27>\u001b[0m in \u001b[0;36m<cell line: 8>\u001b[0;34m()\u001b[0m\n\u001b[1;32m      7\u001b[0m   \u001b[0mm2\u001b[0m\u001b[0;34m=\u001b[0m\u001b[0;34m[\u001b[0m\u001b[0;34m]\u001b[0m\u001b[0;34m\u001b[0m\u001b[0;34m\u001b[0m\u001b[0m\n\u001b[1;32m      8\u001b[0m \u001b[0;32mfor\u001b[0m \u001b[0mi\u001b[0m \u001b[0;32min\u001b[0m \u001b[0mm\u001b[0m\u001b[0;34m:\u001b[0m\u001b[0;34m\u001b[0m\u001b[0;34m\u001b[0m\u001b[0m\n\u001b[0;32m----> 9\u001b[0;31m   \u001b[0;32mif\u001b[0m \u001b[0mindex\u001b[0m\u001b[0;34m[\u001b[0m\u001b[0mi\u001b[0m\u001b[0;34m]\u001b[0m\u001b[0;34m%\u001b[0m\u001b[0;36m2\u001b[0m\u001b[0;34m==\u001b[0m\u001b[0;36m0\u001b[0m\u001b[0;34m:\u001b[0m\u001b[0;34m\u001b[0m\u001b[0;34m\u001b[0m\u001b[0m\n\u001b[0m\u001b[1;32m     10\u001b[0m     \u001b[0mm1\u001b[0m\u001b[0;34m.\u001b[0m\u001b[0mappend\u001b[0m\u001b[0;34m(\u001b[0m\u001b[0mi\u001b[0m\u001b[0;34m)\u001b[0m\u001b[0;34m\u001b[0m\u001b[0;34m\u001b[0m\u001b[0m\n\u001b[1;32m     11\u001b[0m   \u001b[0;32melse\u001b[0m\u001b[0;34m:\u001b[0m\u001b[0;34m\u001b[0m\u001b[0;34m\u001b[0m\u001b[0m\n",
            "\u001b[0;31mNameError\u001b[0m: name 'index' is not defined"
          ]
        }
      ]
    }
  ]
}